{
 "cells": [
  {
   "cell_type": "markdown",
   "metadata": {},
   "source": [
    "# Demonstration notebook:  Plotting the average energies in fort.36 versus pH\n"
   ]
  },
  {
   "cell_type": "markdown",
   "metadata": {},
   "source": [
    "## Data in fort.36:\n",
    "\n",
    "## Fort.36 holds the following data, as given with the head command:\n",
    "\n",
    "  ### > head fort.36\n",
    "\n",
    "    pH =   4.50 Eh =   0.00, Unf. Energy =  -678.01 Kcal/mol :: Unf = unfolding energy\n",
    "    pH =   4.50 Eh =   0.00, Ave. Energy = -4027.99 Kcal/mol :: the line we want\n",
    "    pH =   4.50 Eh =   0.00, Min. Energy = -4062.44 Kcal/mol\n",
    "      6.00 ARG01A0017_001 occ=0.000 trial=    2518/44340000 t\n",
    "      6.00 ARG01A0017_002 occ=0.000 trial=    2452/44340000 t\n",
    "      6.00 ARG01A0017_003 occ=0.000 trial=    2452/44340000 t\n",
    "      6.00 ARG01A0017_006 occ=0.000 trial=    2494/44340000 t\n",
    "      "
   ]
  },
  {
   "cell_type": "markdown",
   "metadata": {
    "collapsed": true
   },
   "source": [
    "### Where\n",
    "\n",
    "$$\n",
    "  Unf. = \\sum_{i=1}^{k} n_i\\times\\Delta G_{i, free} - \\sum_{k=1}^{n} \\Delta G_{k, prot}\n",
    "$$"
   ]
  },
  {
   "cell_type": "markdown",
   "metadata": {},
   "source": [
    "### For example, for a deca-Alanine peptide, the unfolding energy would be estimated by:\n",
    "\n",
    "$$\n",
    "  Unf ( decaAla ) = \\sum_{i=1}^{10} \\Delta G(Ala)_{free} - \\sum_{seq=1}^{10} \\Delta G(ALAseq)\n",
    "$$"
   ]
  },
  {
   "cell_type": "code",
   "execution_count": 1,
   "metadata": {
    "collapsed": true
   },
   "outputs": [],
   "source": [
    "import pandas as pd\n",
    "\n",
    "in_file=\"fort.36\";\n",
    "# The input file, fort.36, is assumed to reside in the same folder as the notebook;\n",
    "    \n",
    "# Read the file into a dataframe;\n",
    "# Identify the columns neededGet 'Ave' pH values & energy values columns from fort.36;   \n",
    "try:\n",
    "    df = pd.read_csv( in_file, sep=\"\\s+\", header=None, usecols=[2, 6, 9], names=['pH', 'E_type', 'E'] )\n",
    "\n",
    "except:\n",
    "    print ( \"Could not read the input file: \" + in_file )\n",
    "\n",
    "# Use the head() function to inpect the output    \n",
    "# df.head()  "
   ]
  },
  {
   "cell_type": "markdown",
   "metadata": {},
   "source": [
    "### Filter by the average value we want to use (equivalent to grep):"
   ]
  },
  {
   "cell_type": "code",
   "execution_count": 2,
   "metadata": {
    "collapsed": true
   },
   "outputs": [],
   "source": [
    "AverE_df = df[ df['E_type']=='Ave.' ]\n",
    "\n",
    "#AverE_df.head()"
   ]
  },
  {
   "cell_type": "markdown",
   "metadata": {},
   "source": [
    "### Using groupby to obtain the mean directly:"
   ]
  },
  {
   "cell_type": "code",
   "execution_count": 3,
   "metadata": {},
   "outputs": [
    {
     "data": {
      "text/plain": [
       "pH\n",
       "0.00    -15.315000\n",
       "1.00    -13.962500\n",
       "2.00    -12.567500\n",
       "3.00    -11.148000\n",
       "4.00     -9.973750\n",
       "5.00     -9.068182\n",
       "6.00     -8.912500\n",
       "7.00     -8.950000\n",
       "8.00     -8.963333\n",
       "9.00     -8.964286\n",
       "10.00    -8.957500\n",
       "11.00    -8.961111\n",
       "12.00    -8.958571\n",
       "13.00    -8.963846\n",
       "14.00    -8.965000\n",
       "Name: E, dtype: float64"
      ]
     },
     "execution_count": 3,
     "metadata": {},
     "output_type": "execute_result"
    }
   ],
   "source": [
    "AverE_df_by_pH = AverE_df.groupby(['pH'], sort=False).mean().E\n",
    "\n",
    "AverE_df_by_pH"
   ]
  },
  {
   "cell_type": "code",
   "execution_count": 16,
   "metadata": {},
   "outputs": [
    {
     "data": {
      "text/plain": [
       "Index(['0.00', '1.00', '2.00', '3.00', '4.00', '5.00', '6.00', '7.00', '8.00',\n",
       "       '9.00', '10.00', '11.00', '12.00', '13.00', '14.00'],\n",
       "      dtype='object', name='pH')"
      ]
     },
     "execution_count": 16,
     "metadata": {},
     "output_type": "execute_result"
    }
   ],
   "source": [
    "# The Groupby field is now an index and can be referenced explicitely:\n",
    "AverE_df_by_pH.index\n",
    "\n",
    "# It will define the x-axis in the plot function."
   ]
  },
  {
   "cell_type": "code",
   "execution_count": 4,
   "metadata": {},
   "outputs": [
    {
     "data": {
      "image/png": "[encoded data removed]",
      "text/plain": [
       "<matplotlib.figure.Figure at 0x45d2160>"
      ]
     },
     "metadata": {},
     "output_type": "display_data"
    }
   ],
   "source": [
    "%matplotlib inline\n",
    "import matplotlib.pyplot as plt\n",
    "\n",
    "plt.plot( AverE_df_by_pH.index, AverE_df_by_pH)\n",
    "plt.title('Average energy vs. pH - using plt' , fontsize=14)\n",
    "plt.xlabel('pH', fontsize=14)\n",
    "plt.ylabel('Energy (kcal/mol)', fontsize=14)\n",
    "plt.grid(True)\n",
    "plt.show()"
   ]
  },
  {
   "cell_type": "markdown",
   "metadata": {},
   "source": [
    "### Alternate way to obtain the stats: the \"agg\" function:"
   ]
  },
  {
   "cell_type": "code",
   "execution_count": 18,
   "metadata": {},
   "outputs": [
    {
     "data": {
      "text/html": [
       "<div>\n",
       "<table border=\"1\" class=\"dataframe\">\n",
       "  <thead>\n",
       "    <tr>\n",
       "      <th></th>\n",
       "      <th colspan=\"2\" halign=\"left\">E</th>\n",
       "    </tr>\n",
       "    <tr>\n",
       "      <th></th>\n",
       "      <th>mean</th>\n",
       "      <th>std</th>\n",
       "    </tr>\n",
       "    <tr>\n",
       "      <th>pH</th>\n",
       "      <th></th>\n",
       "      <th></th>\n",
       "    </tr>\n",
       "  </thead>\n",
       "  <tbody>\n",
       "    <tr>\n",
       "      <th>0.00</th>\n",
       "      <td>-15.315000</td>\n",
       "      <td>0.005774</td>\n",
       "    </tr>\n",
       "    <tr>\n",
       "      <th>1.00</th>\n",
       "      <td>-13.962500</td>\n",
       "      <td>0.009574</td>\n",
       "    </tr>\n",
       "    <tr>\n",
       "      <th>2.00</th>\n",
       "      <td>-12.567500</td>\n",
       "      <td>0.005000</td>\n",
       "    </tr>\n",
       "    <tr>\n",
       "      <th>3.00</th>\n",
       "      <td>-11.148000</td>\n",
       "      <td>0.008367</td>\n",
       "    </tr>\n",
       "    <tr>\n",
       "      <th>4.00</th>\n",
       "      <td>-9.973750</td>\n",
       "      <td>0.428050</td>\n",
       "    </tr>\n",
       "    <tr>\n",
       "      <th>5.00</th>\n",
       "      <td>-9.068182</td>\n",
       "      <td>0.022724</td>\n",
       "    </tr>\n",
       "    <tr>\n",
       "      <th>6.00</th>\n",
       "      <td>-8.912500</td>\n",
       "      <td>0.015811</td>\n",
       "    </tr>\n",
       "    <tr>\n",
       "      <th>7.00</th>\n",
       "      <td>-8.950000</td>\n",
       "      <td>0.000000</td>\n",
       "    </tr>\n",
       "    <tr>\n",
       "      <th>8.00</th>\n",
       "      <td>-8.963333</td>\n",
       "      <td>0.008165</td>\n",
       "    </tr>\n",
       "    <tr>\n",
       "      <th>9.00</th>\n",
       "      <td>-8.964286</td>\n",
       "      <td>0.005345</td>\n",
       "    </tr>\n",
       "    <tr>\n",
       "      <th>10.00</th>\n",
       "      <td>-8.957500</td>\n",
       "      <td>0.005000</td>\n",
       "    </tr>\n",
       "    <tr>\n",
       "      <th>11.00</th>\n",
       "      <td>-8.961111</td>\n",
       "      <td>0.006009</td>\n",
       "    </tr>\n",
       "    <tr>\n",
       "      <th>12.00</th>\n",
       "      <td>-8.958571</td>\n",
       "      <td>0.003780</td>\n",
       "    </tr>\n",
       "    <tr>\n",
       "      <th>13.00</th>\n",
       "      <td>-8.963846</td>\n",
       "      <td>0.005064</td>\n",
       "    </tr>\n",
       "    <tr>\n",
       "      <th>14.00</th>\n",
       "      <td>-8.965000</td>\n",
       "      <td>0.005774</td>\n",
       "    </tr>\n",
       "  </tbody>\n",
       "</table>\n",
       "</div>"
      ],
      "text/plain": [
       "               E          \n",
       "            mean       std\n",
       "pH                        \n",
       "0.00  -15.315000  0.005774\n",
       "1.00  -13.962500  0.009574\n",
       "2.00  -12.567500  0.005000\n",
       "3.00  -11.148000  0.008367\n",
       "4.00   -9.973750  0.428050\n",
       "5.00   -9.068182  0.022724\n",
       "6.00   -8.912500  0.015811\n",
       "7.00   -8.950000  0.000000\n",
       "8.00   -8.963333  0.008165\n",
       "9.00   -8.964286  0.005345\n",
       "10.00  -8.957500  0.005000\n",
       "11.00  -8.961111  0.006009\n",
       "12.00  -8.958571  0.003780\n",
       "13.00  -8.963846  0.005064\n",
       "14.00  -8.965000  0.005774"
      ]
     },
     "execution_count": 18,
     "metadata": {},
     "output_type": "execute_result"
    }
   ],
   "source": [
    "AverE_df_by_pH = AverE_df.groupby(['pH'], sort=False).agg( {\"E\": {\"mean\": np.mean, \"std\": np.std}} )\n",
    "AverE_df_by_pH\n"
   ]
  },
  {
   "cell_type": "markdown",
   "metadata": {},
   "source": [
    "### Ploting the output: the std is a new series"
   ]
  },
  {
   "cell_type": "code",
   "execution_count": 19,
   "metadata": {},
   "outputs": [
    {
     "data": {
      "image/png": "[encoded data removed]",
      "text/plain": [
       "<matplotlib.figure.Figure at 0xaf74080>"
      ]
     },
     "metadata": {},
     "output_type": "display_data"
    }
   ],
   "source": [
    "plt.plot( AverE_df_by_pH.index, AverE_df_by_pH['E'])\n",
    "plt.title('Average energy vs. pH - using plt' , fontsize=14)\n",
    "plt.xlabel('pH', fontsize=14)\n",
    "plt.ylabel('Energy (kcal/mol)', fontsize=14)\n",
    "plt.grid(True)\n",
    "plt.show()"
   ]
  },
  {
   "cell_type": "markdown",
   "metadata": {
    "collapsed": true
   },
   "source": [
    "### To do: Use std as error bars"
   ]
  },
  {
   "cell_type": "code",
   "execution_count": null,
   "metadata": {
    "collapsed": true
   },
   "outputs": [],
   "source": []
  }
 ],
 "metadata": {
  "kernelspec": {
   "display_name": "Python [Root]",
   "language": "python",
   "name": "Python [Root]"
  },
  "language_info": {
   "codemirror_mode": {
    "name": "ipython",
    "version": 3
   },
   "file_extension": ".py",
   "mimetype": "text/x-python",
   "name": "python",
   "nbconvert_exporter": "python",
   "pygments_lexer": "ipython3",
   "version": "3.5.2"
  }
 },
 "nbformat": 4,
 "nbformat_minor": 1
}
